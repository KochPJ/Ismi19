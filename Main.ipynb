{
 "cells": [
  {
   "cell_type": "markdown",
   "metadata": {},
   "source": [
    "# Imports"
   ]
  },
  {
   "cell_type": "code",
   "execution_count": 96,
   "metadata": {},
   "outputs": [],
   "source": [
    "# Import all libraries\n",
    "import requests\n",
    "from tqdm import trange\n",
    "import zipfile\n",
    "import os\n",
    "from PIL import Image\n",
    "import numpy as np\n",
    "import pylab as plt\n",
    "import matplotlib\n",
    "from random import randint\n",
    "from scipy.ndimage.interpolation import rotate\n",
    "from skimage.transform import rescale, resize\n",
    "from IPython.display import clear_output\n",
    "import random\n",
    "import shutil\n",
    "%matplotlib inline\n",
    "\n",
    "import tensorflow as tf\n",
    "from keras.models import Model, load_model\n",
    "from keras.layers import Input, Conv2D, MaxPooling2D, Dropout, UpSampling2D, concatenate, Cropping2D, Reshape, BatchNormalization\n",
    "from keras import optimizers, regularizers\n",
    "from keras.optimizers import SGD, Adam\n",
    "import keras.callbacks\n",
    "from keras import backend as K\n",
    "\n",
    "import h5py\n",
    "from keras.utils.np_utils import to_categorical\n",
    "\n",
    "\n",
    "\n",
    "from keras.models import Sequential\n",
    "from keras.layers import Dense, Dropout, Flatten, BatchNormalization, Activation\n",
    "from keras.layers import Conv2D, MaxPool2D\n",
    "from keras.optimizers import RMSprop, Adam\n",
    "from sklearn.metrics import accuracy_score\n",
    "\n",
    "\n",
    "\n",
    "# this part is needed if you run the notebook on Cartesius with multiple cores\n",
    "n_cores = 32\n",
    "config = tf.ConfigProto(intra_op_parallelism_threads=n_cores-1, inter_op_parallelism_threads=1, allow_soft_placement=True)\n",
    "session = tf.Session(config=config)\n",
    "K.set_session(session)\n",
    "os.environ[\"OMP_NUM_THREADS\"] = str(n_cores-1)\n",
    "os.environ[\"KMP_BLOCKTIME\"] = \"1\"\n",
    "os.environ[\"KMP_SETTINGS\"] = \"1\"\n",
    "os.environ[\"KMP_AFFINITY\"]= \"granularity=fine,verbose,compact,1,0\""
   ]
  },
  {
   "cell_type": "markdown",
   "metadata": {},
   "source": [
    "# Classes"
   ]
  },
  {
   "cell_type": "code",
   "execution_count": 3,
   "metadata": {},
   "outputs": [],
   "source": [
    "class DataSet:\n",
    "    \n",
    "    def __init__(self, data_dir_x, data_dir_y = None):\n",
    "        self.data_dir_x = data_dir_x\n",
    "        self.data_dir_y = data_dir_y\n",
    "    \n",
    "    def get_lenght(self):\n",
    "        with h5py.File(self.data_dir_x, 'r') as hdf:\n",
    "            return len(hdf['x'])\n",
    "    \n",
    "    def show_image(self, i):\n",
    "        with h5py.File(self.data_dir_x, 'r') as hdf:\n",
    "            data = list(hdf['x'][i])\n",
    "            img = np.array(data)\n",
    "            plt.imshow(img)\n",
    "            plt.title('RGB image')\n",
    "            plt.show()\n",
    "\n",
    "        "
   ]
  },
  {
   "cell_type": "code",
   "execution_count": 79,
   "metadata": {},
   "outputs": [],
   "source": [
    "class BatchCreator:\n",
    "    \n",
    "    def __init__(self, dataset):\n",
    "        self.dataset = dataset\n",
    "        self.dataset_length = self.dataset.get_lenght()\n",
    "        \n",
    "\n",
    "\n",
    "    def create_batch(self, batch_size):\n",
    "        start_pos = np.random.randint(0,self.dataset_length-batch_size+1)\n",
    "        x_data = np.array([])\n",
    "        y_data = np.array([])\n",
    "      \n",
    "        with h5py.File(self.dataset.data_dir_x, 'r') as hdf:\n",
    "            data = list(hdf['x'][start_pos:start_pos+batch_size])\n",
    "            \n",
    "            \n",
    "            x_data = np.array(data)\n",
    "        \n",
    "        with h5py.File(self.dataset.data_dir_y, 'r') as hdf:\n",
    "            data = list(hdf['y'][start_pos:start_pos+batch_size])\n",
    "            data = np.reshape(data,(batch_size,1))\n",
    "            data = to_categorical(data, num_classes=2)\n",
    "            y_data = np.array(data)  \n",
    "            \n",
    "            \n",
    "        return x_data, y_data\n",
    "    \n",
    "\n",
    "        \n",
    "    def get_generator(self, batch_size):\n",
    "        '''returns a generator that will yield batches infinitely'''\n",
    "        while True:\n",
    "            yield self.create_batch(batch_size)"
   ]
  },
  {
   "cell_type": "code",
   "execution_count": 105,
   "metadata": {},
   "outputs": [],
   "source": [
    "def calculate_dice(x, y):\n",
    "    '''returns the dice similarity score, between two boolean arrays'''\n",
    "    return 2 * np.count_nonzero(x & y) / (np.count_nonzero(x) + np.count_nonzero(y))\n",
    "\n",
    "class Logger(keras.callbacks.Callback):\n",
    "\n",
    "    def __init__(self, validation_data, saving_dir, model_name, validation_batch_size):\n",
    "        \n",
    "        self.validation_dataset = validation_data\n",
    "        self.validtaion_dataset_length = self.validation_dataset.get_lenght()\n",
    "        self.validation_batch_creator = BatchCreator(self.validation_dataset)\n",
    "        \n",
    "        #take 0-100% of the validatin dataset for validation\n",
    "        self.val_imgs, self.val_lbls = self.validation_batch_creator.create_batch(int(self.validtaion_dataset_length*validation_batch_size))\n",
    "    \n",
    "        self.model_filename = os.path.join(saving_dir, model_name + '.h5')\n",
    "        \n",
    "        self.losses = []\n",
    "        self.accurancies = []\n",
    "        self.best_validation_acc = 0\n",
    "        self.best_model = None\n",
    "        self.predictions = None\n",
    "    \n",
    "    def on_batch_end(self, batch, logs={}):\n",
    "        self.losses.append(logs.get('loss'))\n",
    "        self.losses.append(logs.get('acc'))\n",
    "    \n",
    "    def on_epoch_end(self, batch, logs={}):\n",
    "        acc = self.validate()\n",
    "        self.accurancies.append([len(self.losses), acc])\n",
    "        if acc > self.best_validation_acc:\n",
    "            self.best_validation_acc = acc\n",
    "            self.model.save(self.model_filename) # save best model to disk\n",
    "            print('best model saved as {}'.format(self.model_filename))\n",
    "        self.plot()   \n",
    "    \n",
    "    def validate(self):\n",
    "        predicted_lbls = to_categorical(np.argmax(self.model.predict(self.val_imgs, batch_size=1), axis=1), num_classes=2)\n",
    "        return accuracy_score(self.val_lbls, predicted_lbls)\n",
    "\n",
    "    \n",
    "    def plot(self):\n",
    "        clear_output()\n",
    "        N = len(self.losses)\n",
    "        plt.figure(figsize=(50, 10))\n",
    "        plt.subplot(1, 2, 1)\n",
    "        plt.plot(range(0, N), self.losses); plt.title('losses')\n",
    "        plt.subplot(1, 2, 2)\n",
    "        plt.plot(*np.array(self.accurancies).T); plt.title('accurancies')\n",
    "        plt.show\n",
    "   "
   ]
  },
  {
   "cell_type": "markdown",
   "metadata": {},
   "source": [
    "# Load Data"
   ]
  },
  {
   "cell_type": "code",
   "execution_count": 106,
   "metadata": {},
   "outputs": [
    {
     "name": "stdout",
     "output_type": "stream",
     "text": [
      "./data/camelyonpatch_level_2_split_train_x.h5\n"
     ]
    }
   ],
   "source": [
    "#data dirs\n",
    "data_dir = './data/'\n",
    "train_dir_x = os.path.join(data_dir, 'camelyonpatch_level_2_split_train_x.h5')\n",
    "train_dir_y = os.path.join(data_dir, 'camelyonpatch_level_2_split_train_y.h5')\n",
    "valid_dir_x = os.path.join(data_dir, 'camelyonpatch_level_2_split_valid_x.h5')\n",
    "valid_dir_y = os.path.join(data_dir, 'camelyonpatch_level_2_split_valid_y.h5')\n",
    "test_dir_x = os.path.join(data_dir, 'camelyonpatch_level_2_split_test_x.h5')\n",
    "\n",
    "print(train_dir_x)"
   ]
  },
  {
   "cell_type": "code",
   "execution_count": 107,
   "metadata": {},
   "outputs": [
    {
     "name": "stdout",
     "output_type": "stream",
     "text": [
      "262144\n"
     ]
    },
    {
     "data": {
      "image/png": "[encoded data removed]",
      "text/plain": [
       "<matplotlib.figure.Figure at 0x245d9591978>"
      ]
     },
     "metadata": {},
     "output_type": "display_data"
    }
   ],
   "source": [
    "training_dataset = DataSet(train_dir_x, train_dir_y)\n",
    "validation_dataset = DataSet(valid_dir_x, valid_dir_y)\n",
    "test_dataset = DataSet(test_dir_x)\n",
    "print(training_dataset.get_lenght())\n",
    "training_dataset.show_image(1)\n"
   ]
  },
  {
   "cell_type": "code",
   "execution_count": 108,
   "metadata": {},
   "outputs": [
    {
     "name": "stdout",
     "output_type": "stream",
     "text": [
      "(100, 96, 96, 3)\n",
      "(100, 2)\n"
     ]
    }
   ],
   "source": [
    "#test batch creator\n",
    "batch_creator = BatchCreator(validation_dataset)\n",
    "batch = batch_creator.create_batch(100)\n",
    "print(batch[0].shape)\n",
    "print(batch[1].shape)"
   ]
  },
  {
   "cell_type": "code",
   "execution_count": null,
   "metadata": {},
   "outputs": [],
   "source": []
  },
  {
   "cell_type": "markdown",
   "metadata": {},
   "source": [
    "# Create Model\n"
   ]
  },
  {
   "cell_type": "code",
   "execution_count": 109,
   "metadata": {},
   "outputs": [],
   "source": [
    "def build_model(printmodel=False):\n",
    "    kernel_size = (3,3)\n",
    "    pool_size= (2,2)\n",
    "    first_filters = 32\n",
    "    second_filters = 64\n",
    "    third_filters = 128\n",
    "\n",
    "    dropout_conv = 0.3\n",
    "    dropout_dense = 0.5\n",
    "\n",
    "    model = Sequential()\n",
    "    model.add(Conv2D(first_filters, kernel_size, activation = 'relu', input_shape = (96, 96, 3)))\n",
    "    model.add(Conv2D(first_filters, kernel_size, use_bias=False))\n",
    "    model.add(BatchNormalization())\n",
    "    model.add(Activation(\"relu\"))\n",
    "    model.add(MaxPool2D(pool_size = pool_size)) \n",
    "    model.add(Dropout(dropout_conv))\n",
    "\n",
    "    model.add(Conv2D(second_filters, kernel_size, use_bias=False))\n",
    "    model.add(BatchNormalization())\n",
    "    model.add(Activation(\"relu\"))\n",
    "    model.add(Conv2D(second_filters, kernel_size, use_bias=False))\n",
    "    model.add(BatchNormalization())\n",
    "    model.add(Activation(\"relu\"))\n",
    "    model.add(MaxPool2D(pool_size = pool_size))\n",
    "    model.add(Dropout(dropout_conv))\n",
    "\n",
    "    model.add(Conv2D(third_filters, kernel_size, use_bias=False))\n",
    "    model.add(BatchNormalization())\n",
    "    model.add(Activation(\"relu\"))\n",
    "    model.add(Conv2D(third_filters, kernel_size, use_bias=False))\n",
    "    model.add(BatchNormalization())\n",
    "    model.add(Activation(\"relu\"))\n",
    "    model.add(MaxPool2D(pool_size = pool_size))\n",
    "    model.add(Dropout(dropout_conv))\n",
    "\n",
    "    #model.add(GlobalAveragePooling2D())\n",
    "    model.add(Flatten())\n",
    "    model.add(Dense(256, use_bias=False))\n",
    "    model.add(BatchNormalization())\n",
    "    model.add(Activation(\"relu\"))\n",
    "    model.add(Dropout(dropout_dense))\n",
    "    model.add(Dense(2, activation = \"softmax\"))\n",
    "    \n",
    "    if printmodel:\n",
    "        print(model.summary())\n",
    "    \n",
    "    return model\n"
   ]
  },
  {
   "cell_type": "code",
   "execution_count": 110,
   "metadata": {},
   "outputs": [
    {
     "name": "stdout",
     "output_type": "stream",
     "text": [
      "_________________________________________________________________\n",
      "Layer (type)                 Output Shape              Param #   \n",
      "=================================================================\n",
      "conv2d_67 (Conv2D)           (None, 94, 94, 32)        896       \n",
      "_________________________________________________________________\n",
      "conv2d_68 (Conv2D)           (None, 92, 92, 32)        9216      \n",
      "_________________________________________________________________\n",
      "batch_normalization_67 (Batc (None, 92, 92, 32)        128       \n",
      "_________________________________________________________________\n",
      "activation_67 (Activation)   (None, 92, 92, 32)        0         \n",
      "_________________________________________________________________\n",
      "max_pooling2d_34 (MaxPooling (None, 46, 46, 32)        0         \n",
      "_________________________________________________________________\n",
      "dropout_45 (Dropout)         (None, 46, 46, 32)        0         \n",
      "_________________________________________________________________\n",
      "conv2d_69 (Conv2D)           (None, 44, 44, 64)        18432     \n",
      "_________________________________________________________________\n",
      "batch_normalization_68 (Batc (None, 44, 44, 64)        256       \n",
      "_________________________________________________________________\n",
      "activation_68 (Activation)   (None, 44, 44, 64)        0         \n",
      "_________________________________________________________________\n",
      "conv2d_70 (Conv2D)           (None, 42, 42, 64)        36864     \n",
      "_________________________________________________________________\n",
      "batch_normalization_69 (Batc (None, 42, 42, 64)        256       \n",
      "_________________________________________________________________\n",
      "activation_69 (Activation)   (None, 42, 42, 64)        0         \n",
      "_________________________________________________________________\n",
      "max_pooling2d_35 (MaxPooling (None, 21, 21, 64)        0         \n",
      "_________________________________________________________________\n",
      "dropout_46 (Dropout)         (None, 21, 21, 64)        0         \n",
      "_________________________________________________________________\n",
      "conv2d_71 (Conv2D)           (None, 19, 19, 128)       73728     \n",
      "_________________________________________________________________\n",
      "batch_normalization_70 (Batc (None, 19, 19, 128)       512       \n",
      "_________________________________________________________________\n",
      "activation_70 (Activation)   (None, 19, 19, 128)       0         \n",
      "_________________________________________________________________\n",
      "conv2d_72 (Conv2D)           (None, 17, 17, 128)       147456    \n",
      "_________________________________________________________________\n",
      "batch_normalization_71 (Batc (None, 17, 17, 128)       512       \n",
      "_________________________________________________________________\n",
      "activation_71 (Activation)   (None, 17, 17, 128)       0         \n",
      "_________________________________________________________________\n",
      "max_pooling2d_36 (MaxPooling (None, 8, 8, 128)         0         \n",
      "_________________________________________________________________\n",
      "dropout_47 (Dropout)         (None, 8, 8, 128)         0         \n",
      "_________________________________________________________________\n",
      "flatten_12 (Flatten)         (None, 8192)              0         \n",
      "_________________________________________________________________\n",
      "dense_23 (Dense)             (None, 256)               2097152   \n",
      "_________________________________________________________________\n",
      "batch_normalization_72 (Batc (None, 256)               1024      \n",
      "_________________________________________________________________\n",
      "activation_72 (Activation)   (None, 256)               0         \n",
      "_________________________________________________________________\n",
      "dropout_48 (Dropout)         (None, 256)               0         \n",
      "_________________________________________________________________\n",
      "dense_24 (Dense)             (None, 2)                 514       \n",
      "=================================================================\n",
      "Total params: 2,386,946\n",
      "Trainable params: 2,385,602\n",
      "Non-trainable params: 1,344\n",
      "_________________________________________________________________\n",
      "None\n"
     ]
    }
   ],
   "source": [
    "model = build_model(True)"
   ]
  },
  {
   "cell_type": "markdown",
   "metadata": {},
   "source": [
    "# Train Model"
   ]
  },
  {
   "cell_type": "code",
   "execution_count": 111,
   "metadata": {},
   "outputs": [],
   "source": [
    "def train_model(model, training_params):\n",
    "    \n",
    "    batch_size = training_params['batch_size']\n",
    "    loss = training_params['loss']\n",
    "    metrics = training_params['metrics']\n",
    "    epochs = training_params['epochs']\n",
    "    steps_per_epoch = training_params['steps_per_epoch']\n",
    "    optimizer = training_params['optimizer']\n",
    "    training_dataset = training_params['training_dataset']\n",
    "    validation_dataset = training_params['validation_dataset']\n",
    "    logger = training_params['logger']\n",
    "    \n",
    "        \n",
    "    # batch generator \n",
    "    batch_creator = BatchCreator(training_dataset)\n",
    "    batch_generator = batch_creator.get_generator(batch_size)\n",
    "\n",
    "    # compile the model\n",
    "    model.compile(optimizer=optimizer, loss=loss, metrics=metrics)\n",
    "\n",
    "    # train the model\n",
    "    model.fit_generator(generator=batch_generator, \n",
    "                        steps_per_epoch=steps_per_epoch, \n",
    "                        epochs=epochs,\n",
    "                        callbacks=[logger])"
   ]
  },
  {
   "cell_type": "code",
   "execution_count": null,
   "metadata": {},
   "outputs": [
    {
     "name": "stdout",
     "output_type": "stream",
     "text": [
      "Epoch 7/10\n"
     ]
    }
   ],
   "source": [
    "# training parameters\n",
    "saving_dir = './models/'\n",
    "if(not os.path.exists(saving_dir)):\n",
    "    os.mkdir(saving_dir)\n",
    "\n",
    "model_name = 'model'\n",
    "training_params = {}\n",
    "training_params['learning_rate'] = 1e-3\n",
    "training_params['batch_size'] = 32 # number of patches in a mini-batch\n",
    "training_params['steps_per_epoch'] = 1 # number of iterations per epoch\n",
    "training_params['epochs'] = 10 # number of epochs\n",
    "\n",
    "training_params['optimizer'] = SGD(lr=training_params['learning_rate'], momentum=0.9, nesterov=True)\n",
    "training_params['loss'] = ['categorical_crossentropy']\n",
    "training_params['metrics'] = ['accuracy']\n",
    "training_params['training_dataset'] = training_dataset\n",
    "training_params['validation_dataset'] = validation_dataset\n",
    "\n",
    "training_params['logger'] = Logger(validation_dataset, saving_dir, model_name, 0.001)\n",
    "\n",
    "# train model\n",
    "train_model(model, training_params)"
   ]
  },
  {
   "cell_type": "code",
   "execution_count": null,
   "metadata": {},
   "outputs": [],
   "source": []
  },
  {
   "cell_type": "code",
   "execution_count": null,
   "metadata": {},
   "outputs": [],
   "source": []
  },
  {
   "cell_type": "code",
   "execution_count": null,
   "metadata": {},
   "outputs": [],
   "source": []
  }
 ],
 "metadata": {
  "kernelspec": {
   "display_name": "Python 3",
   "language": "python",
   "name": "python3"
  },
  "language_info": {
   "codemirror_mode": {
    "name": "ipython",
    "version": 3
   },
   "file_extension": ".py",
   "mimetype": "text/x-python",
   "name": "python",
   "nbconvert_exporter": "python",
   "pygments_lexer": "ipython3",
   "version": "3.6.8"
  }
 },
 "nbformat": 4,
 "nbformat_minor": 2
}
